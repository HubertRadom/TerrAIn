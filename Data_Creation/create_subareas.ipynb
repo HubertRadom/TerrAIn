{
 "cells": [
  {
   "cell_type": "code",
   "execution_count": 1,
   "metadata": {},
   "outputs": [],
   "source": [
    "def imshow(a):\n",
    "    try:\n",
    "        a = cv2.normalize(a, None, alpha = 0, beta = 255, norm_type = cv2.NORM_MINMAX, dtype = cv2.CV_32F)\n",
    "        a = a.astype(np.uint8)\n",
    "    except:\n",
    "        pass\n",
    "    display(Image.fromarray(a))"
   ]
  },
  {
   "cell_type": "code",
   "execution_count": 2,
   "metadata": {},
   "outputs": [],
   "source": [
    "import glob\n",
    "import os\n",
    "from pathlib import Path\n",
    "import numpy as np\n",
    "from dask import array as da\n",
    "import random\n",
    "import tifffile\n",
    "import cv2\n",
    "from PIL import Image\n",
    "import warnings"
   ]
  },
  {
   "cell_type": "code",
   "execution_count": 3,
   "metadata": {},
   "outputs": [],
   "source": [
    "def load_data(path):\n",
    "    grid = np.loadtxt(path, skiprows=6)\n",
    "#     visualization = cv2.imread(f\"{path[5:-4]}.png\", cv2.IMREAD_COLOR)\n",
    "    tif_paths = glob.glob(f\"data/{path[5:-4]}/download??.tif\")\n",
    "    try:\n",
    "        image = da.dstack([tifffile.memmap(tif) for tif in tif_paths])\n",
    "        print(\"memmap successful\")\n",
    "    except ValueError:\n",
    "        if tif_paths:\n",
    "            image = np.dstack([tifffile.imread(tif) for tif in tif_paths])\n",
    "        else:\n",
    "            warnings.warn(f\"Image files not found for {path}, empty (white) canvas will be returned.\")\n",
    "            return grid, np.full((grid.shape[0], grid.shape[1], 3), 255, dtype=np.uint8)\n",
    "    grid = cv2.resize(grid, dsize=image.shape[:-1][::-1], interpolation=cv2.INTER_AREA)\n",
    "    return grid, image"
   ]
  },
  {
   "cell_type": "code",
   "execution_count": 4,
   "metadata": {},
   "outputs": [],
   "source": [
    "def blockshaped(arr, area):\n",
    "    \"\"\"\n",
    "    Return an array of shape (n, area, area) where\n",
    "    n * area * area = arr.size\n",
    "\n",
    "    If arr is a 2D array, the returned array should look like n subblocks with\n",
    "    each subblock preserving the \"physical\" layout of arr.\n",
    "    \"\"\"\n",
    "    h, w = arr.shape[:2]\n",
    "    h_cut = h - h%area\n",
    "    w_cut = w - w%area\n",
    "    out = arr[:h_cut, :w_cut]\n",
    "#         out = np.pad(arr, ((0, area-h%area), (0, area-w%area)), 'constant', constant_values=-999)\n",
    "    try:\n",
    "        h, w = out.shape\n",
    "        return (out.reshape(h//area, area, w//area, area)\n",
    "               .swapaxes(1,2)\n",
    "               .reshape(-1, area, area))\n",
    "    except ValueError:\n",
    "#         out = cv2.copyMakeBorder(arr, 0, area-h%area, 0, area-w%area, borderType=cv2.BORDER_CONSTANT,value=[0,0,0])\n",
    "        h, w, c = out.shape\n",
    "        return (out.reshape(h//area, area, w//area, area, c)\n",
    "               .swapaxes(1,2)\n",
    "               .reshape(-1, area, area, c))"
   ]
  },
  {
   "cell_type": "code",
   "execution_count": 5,
   "metadata": {},
   "outputs": [],
   "source": [
    "def partition_and_filter(grid, image, area):\n",
    "    subgrids = blockshaped(grid, area)\n",
    "    del grid\n",
    "    subimages = blockshaped(image, area)\n",
    "    del image\n",
    "    mask = (subgrids > 9999).any(axis=(1, 2)) | (subgrids < -99).any(axis=(1, 2))\n",
    "    print(f\"Damaged subgrids:\\t{mask.sum()}\")\n",
    "    subgrids = subgrids[~mask]\n",
    "    subimages = subimages[~mask]\n",
    "    \n",
    "    np.save('temp/grids.npy', subgrids)\n",
    "    del subgrids\n",
    "    \n",
    "    print(\"Loading satellite image...\", end=\"\")\n",
    "    subimages = np.asarray(subimages)\n",
    "    print(\"\\tdone!\")\n",
    "    mask = (subimages == (0, 0, 0)).any(axis=(1, 2, 3))\n",
    "    print(f\"Damaged subimages:\\t{mask.sum()}\")\n",
    "    subimages = subimages[~mask]\n",
    "    \n",
    "    subgrids = np.load('temp/grids.npy')\n",
    "    subgrids = subgrids[~mask]\n",
    "    return subgrids, subimages"
   ]
  },
  {
   "cell_type": "code",
   "execution_count": 6,
   "metadata": {},
   "outputs": [],
   "source": [
    "def train_val_test_split(grid, image, train=0.8, val=0.1, test=0.1):\n",
    "    assert train + val + test == 1.0\n",
    "    assert grid.shape == image.shape[:3]\n",
    "    indices = np.arange(grid.shape[0])\n",
    "    np.random.shuffle(indices)\n",
    "    grid = grid[indices]\n",
    "    image = image[indices]\n",
    "    train_grid, validate_grid, test_grid = np.split(grid, [int(len(grid)*train), int(len(grid)*(train+val))])\n",
    "    del grid\n",
    "    train_images, validate_images, test_images = np.split(image, [int(len(image)*train), int(len(image)*(train+val))])\n",
    "    del image\n",
    "    return train_grid, validate_grid, test_grid, train_images, validate_images, test_images"
   ]
  },
  {
   "cell_type": "code",
   "execution_count": 7,
   "metadata": {},
   "outputs": [],
   "source": [
    "def main():\n",
    "    paths = glob.glob(f\"data/*.asc\")\n",
    "    for path_in in paths:\n",
    "        print(f\"loading {path_in}...\", end='')\n",
    "        path_out = f'out/{path_in[5:-4]}/'\n",
    "        path_out = f\"D:/out_shuffle/{path_in[5:-4]}/\"\n",
    "        if os.path.exists(path_out):\n",
    "            print(\"skipping...\")\n",
    "            continue\n",
    "        grid, image = load_data(path_in)\n",
    "        Path(path_out).mkdir(parents=True, exist_ok=True)\n",
    "        \n",
    "        print(\"done!\\npartitioning the data...\")\n",
    "        subgrids, subimages = partition_and_filter(grid, image, 256)\n",
    "        del grid, image\n",
    "        \n",
    "        print(f\"done!\\ttotal subareas:\\t{len(subgrids)}\\nsplitting the data...\")\n",
    "        train_grid, validation_grid, test_grid, train_images, validation_images, test_images = train_val_test_split(subgrids, subimages)\n",
    "        del subgrids, subimages\n",
    "        \n",
    "        print(\"done!\\nsaving the data...\")\n",
    "        np.save(path_out+'train_grids.npy', train_grid)\n",
    "        np.save(path_out+'train_images.npy', train_images)\n",
    "        del train_grid, train_images\n",
    "        np.save(path_out+'test_grids.npy', test_grid)\n",
    "        np.save(path_out+'test_images.npy', test_images)\n",
    "        del test_grid, test_images\n",
    "        np.save(path_out+'validation_grids.npy', validation_grid)\n",
    "        np.save(path_out+'validation_images.npy', validation_images)\n",
    "        del validation_grid, validation_images\n",
    "        \n",
    "        print(\"done!\")\n",
    "    return"
   ]
  },
  {
   "cell_type": "code",
   "execution_count": 8,
   "metadata": {},
   "outputs": [
    {
     "name": "stdout",
     "output_type": "stream",
     "text": [
      "loading data\\death_valley.asc...skipping...\n",
      "loading data\\laytonville.asc...skipping...\n",
      "loading data\\mt_rainier.asc...done!\n",
      "partitioning the data...\n",
      "Damaged subgrids:\t2032\n",
      "Loading satellite image...\tdone!\n",
      "Damaged subimages:\t0\n",
      "done!\ttotal subareas:\t2478\n",
      "splitting the data...\n",
      "done!\n",
      "saving the data...\n",
      "done!\n",
      "loading data\\river_basin.asc...skipping...\n",
      "loading data\\san_gabriel.asc...skipping...\n"
     ]
    }
   ],
   "source": [
    "main()"
   ]
  }
 ],
 "metadata": {
  "kernelspec": {
   "display_name": "Python 3",
   "language": "python",
   "name": "python3"
  },
  "language_info": {
   "codemirror_mode": {
    "name": "ipython",
    "version": 3
   },
   "file_extension": ".py",
   "mimetype": "text/x-python",
   "name": "python",
   "nbconvert_exporter": "python",
   "pygments_lexer": "ipython3",
   "version": "3.7.6"
  },
  "toc": {
   "base_numbering": 1,
   "nav_menu": {},
   "number_sections": true,
   "sideBar": true,
   "skip_h1_title": false,
   "title_cell": "Table of Contents",
   "title_sidebar": "Contents",
   "toc_cell": false,
   "toc_position": {},
   "toc_section_display": true,
   "toc_window_display": false
  }
 },
 "nbformat": 4,
 "nbformat_minor": 4
}
