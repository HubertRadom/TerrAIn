{
  "cells": [
    {
      "cell_type": "code",
      "execution_count": null,
      "metadata": {
        "id": "Fy4HceOol_h1"
      },
      "outputs": [],
      "source": [
        "# Install the library\n",
        "!pip -q install FireHR==0.1.2 pyhdf==0.10.2"
      ]
    },
    {
      "cell_type": "code",
      "execution_count": null,
      "metadata": {
        "colab": {
          "base_uri": "https://localhost:8080/"
        },
        "id": "kKyI9oFmmvpd",
        "outputId": "2bfb3b2f-34de-4cb5-d846-97a6f17a94e0"
      },
      "outputs": [
        {
          "output_type": "stream",
          "name": "stdout",
          "text": [
            "To authorize access needed by Earth Engine, open the following URL in a web browser and follow the instructions. If the web browser does not start automatically, please manually browse the URL below.\n",
            "\n",
            "    https://code.earthengine.google.com/client-auth?scopes=https%3A//www.googleapis.com/auth/earthengine%20https%3A//www.googleapis.com/auth/devstorage.full_control&request_id=L7Kof3eLgsfBAG43yktPvaHPTeq3QhxW6Ncx_7Td63w&tc=scCiS87T5AG23-a_JYJWnhm1B8zhgfjWk5Db_Vj4GZs&cc=c1HWp_aaRM5ssZpz-KxQZ_3485T-cRRoxDWyOLsU5fI\n",
            "\n",
            "The authorization workflow will generate a code, which you should paste in the box below.\n",
            "Enter verification code: 4/1AfgeXvv9GJ6BF6LkteRD-QnL05sZo3f-YgrHjZY6HQTr4hBSjIKS-gzt73w\n",
            "\n",
            "Successfully saved authorization token.\n"
          ]
        }
      ],
      "source": [
        "# Authenticate to use Google Earth Engine API\n",
        "# requires a google developer account and a created project\n",
        "import ee\n",
        "ee.Authenticate()"
      ]
    },
    {
      "cell_type": "code",
      "execution_count": null,
      "metadata": {
        "colab": {
          "base_uri": "https://localhost:8080/"
        },
        "id": "gxM5B7hRGTIe",
        "outputId": "ec0ff904-cc6f-4c8a-8b58-a9357399fc23"
      },
      "outputs": [
        {
          "output_type": "stream",
          "name": "stdout",
          "text": [
            "Mounted at /content/drive\n"
          ]
        }
      ],
      "source": [
        "from google.colab import drive\n",
        "drive.mount('/content/drive')"
      ]
    },
    {
      "cell_type": "code",
      "execution_count": null,
      "metadata": {
        "colab": {
          "base_uri": "https://localhost:8080/",
          "height": 37
        },
        "id": "G-rR0f-GmELJ",
        "outputId": "b8f8e379-41ec-4ce9-fc69-22671a038341"
      },
      "outputs": [
        {
          "output_type": "display_data",
          "data": {
            "text/plain": [
              "<IPython.core.display.HTML object>"
            ],
            "text/html": [
              "\n",
              "<style>\n",
              "    /* Turns off some styling */\n",
              "    progress {\n",
              "        /* gets rid of default border in Firefox and Opera. */\n",
              "        border: none;\n",
              "        /* Needs to be in here for Safari polyfill so background images work as expected. */\n",
              "        background-size: auto;\n",
              "    }\n",
              "    progress:not([value]), progress:not([value])::-webkit-progress-bar {\n",
              "        background: repeating-linear-gradient(45deg, #7e7e7e, #7e7e7e 10px, #5c5c5c 10px, #5c5c5c 20px);\n",
              "    }\n",
              "    .progress-bar-interrupted, .progress-bar-interrupted::-webkit-progress-bar {\n",
              "        background: #F44336;\n",
              "    }\n",
              "</style>\n"
            ]
          },
          "metadata": {}
        },
        {
          "output_type": "display_data",
          "data": {
            "text/plain": [
              "<IPython.core.display.HTML object>"
            ],
            "text/html": [
              "\n",
              "    <div>\n",
              "      <progress value='330' class='' max='330' style='width:300px; height:20px; vertical-align: middle;'></progress>\n",
              "      100.00% [330/330 2:30:30&lt;00:00]\n",
              "    </div>\n",
              "    "
            ]
          },
          "metadata": {}
        }
      ],
      "source": [
        "from pathlib import Path\n",
        "from FireHR.data import RegionST, download_data\n",
        "# Bounding box coordinates\n",
        "\n",
        "#minx=\"-94.88571095638814\" miny=\"30.14514620619975\" maxx=\"-94.78928008215365\" maxy=\"30.28536053650498\" - Trinity River\n",
        "#minx=\"-91.47505319919564\" miny=\"29.50821478911770\" maxx=\"-91.40178319567509\" maxy=\"29.54368741117223 - Luisiana delta\n",
        "# minx=\"-106.64373712579015\" miny=\"35.84925461242930\" maxx=\"-106.36866021281392\" maxy=\"36.01168317037658 - River Basin\n",
        "# minx=\"-123.62093391790084\" miny=\"39.54403867886698\" maxx=\"-123.40558673156958\" maxy=\"39.59625307504254\" - Laytonville\n",
        "minx=-121.942154\n",
        "miny=46.720492\n",
        "maxx=-121.751341\n",
        "maxy=46.847384\n",
        "\n",
        "# minx=-123.62093391790084\n",
        "# miny=39.54403867886698\n",
        "# maxx=-123.40558673156958\n",
        "# maxy=39.59625307504254\n",
        "\n",
        "\n",
        "left = minx\n",
        "right = maxx\n",
        "bottom = miny\n",
        "top = maxy\n",
        "#################################################################\n",
        "\n",
        "path_save   = Path('/content/drive/MyDrive/data/mt_rainier')\n",
        "products    = [\"USDA/NAIP/DOQQ\"]  # Product id in google earth engine\n",
        "bands       = ['R', 'G', 'B'] # Red, Green, Blue\n",
        "\n",
        "R = RegionST(name         = 'Test', \n",
        "             bbox         = [left,bottom,right,top], \n",
        "             scale_meters = 1, \n",
        "             time_start   = '2015-03-01', \n",
        "             time_end     = '2016-07-25')\n",
        "\n",
        "# Download time series\n",
        "# download_data_ts(R, products, bands, path_save)\n",
        "\n",
        "time_window = R.times[0], R.times[-1]\n",
        "\n",
        "# Download median composite of the 3 least cloudy images within the time_window\n",
        "download_data(R, time_window, products, bands, path_save, \n",
        "              show_progress=True)\n",
        "\n",
        "#download_data_ts(R, products, bands, path_save, show_progress=True)\n",
        "\n"
      ]
    },
    {
      "cell_type": "code",
      "execution_count": null,
      "metadata": {
        "id": "wga6X_n5wkFp"
      },
      "outputs": [],
      "source": [
        "import numpy as np\n",
        "import cv2\n",
        "from PIL import Image\n",
        "\n",
        "def imshow(a):\n",
        "  a = a.clip(0, 255).astype('uint8')\n",
        "  if a.ndim == 3:\n",
        "    if a.shape[2] == 4:\n",
        "      a = cv2.cvtColor(a, cv2.COLOR_BGRA2RGBA)\n",
        "    else:\n",
        "      a = cv2.cvtColor(a, cv2.COLOR_BGR2RGB)\n",
        "  display(Image.fromarray(a))"
      ]
    },
    {
      "cell_type": "code",
      "execution_count": null,
      "metadata": {
        "colab": {
          "background_save": true
        },
        "id": "_FRnekpOwraa"
      },
      "outputs": [],
      "source": [
        "#The below code views the downloaded data\n",
        "im = np.concatenate([open_tif(f'data/download.{b}.tif').read() for b in bands])\n",
        "im = im.transpose(1,2,0).astype(np.float32)/1000\n",
        "im *= (255.0/im.max())\n",
        "im = im.astype(int)\n",
        "print(im.shape)\n",
        "imshow(im)"
      ]
    }
  ],
  "metadata": {
    "colab": {
      "provenance": []
    },
    "kernelspec": {
      "display_name": "Python 3",
      "name": "python3"
    },
    "language_info": {
      "name": "python"
    }
  },
  "nbformat": 4,
  "nbformat_minor": 0
}